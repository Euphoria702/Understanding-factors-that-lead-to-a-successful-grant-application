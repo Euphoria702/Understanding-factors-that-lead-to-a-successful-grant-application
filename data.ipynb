{
 "cells": [
  {
   "cell_type": "markdown",
   "metadata": {},
   "source": [
    "### Fetching STIP proposals from all the available forum on Arbitrum forum."
   ]
  },
  {
   "cell_type": "code",
   "execution_count": null,
   "metadata": {},
   "outputs": [],
   "source": [
    "import pandas as pd\n",
    "\n",
    "# Load the original CSV file\n",
    "df = pd.read_csv('forum_topics_data.csv')\n",
    "\n",
    "# Filter rows where the 'Title' column contains 'STIP - Round 1'\n",
    "stip_topics_df = df[df['Title'].str.contains('STIP - Round 1')]\n",
    "\n",
    "# Save the filtered data to a new CSV file\n",
    "stip_topics_df.to_csv('stip_topics_data.csv', index=False)\n"
   ]
  },
  {
   "cell_type": "markdown",
   "metadata": {},
   "source": [
    "#### Fetching STIP propsoals description from the stip_topics_data.csv file"
   ]
  },
  {
   "cell_type": "code",
   "execution_count": 3,
   "metadata": {},
   "outputs": [
    {
     "name": "stdout",
     "output_type": "stream",
     "text": [
      "Data saved successfully!\n"
     ]
    }
   ],
   "source": [
    "import requests\n",
    "import pandas as pd\n",
    "\n",
    "# Load the stip_topics_data.csv file\n",
    "df = pd.read_csv('stip_topics_data.csv')\n",
    "\n",
    "# Function to fetch data from API and filter based on post_number\n",
    "def fetch_data(topic_id):\n",
    "    url = f\"https://forum.arbitrum.foundation/t/{topic_id}.json\"\n",
    "    response = requests.get(url)\n",
    "    data = response.json()\n",
    "    posts = data['post_stream']['posts']\n",
    "    # Filter posts where post_number is 1\n",
    "    filtered_posts = [post for post in posts if post['post_number'] == 1]\n",
    "    return filtered_posts\n",
    "\n",
    "# Fetch data for each topic_id and store in a list\n",
    "data_list = []\n",
    "for topic_id in df['Topic ID']:\n",
    "    topic_data = fetch_data(topic_id)\n",
    "    if topic_data:\n",
    "        topic_data[0]['Topic ID'] = topic_id  # Add 'Topic ID' to the dictionary\n",
    "        data_list.append(topic_data[0])\n",
    "\n",
    "# Convert list of dictionaries to DataFrame\n",
    "detail_df = pd.DataFrame(data_list)\n",
    "\n",
    "# Select only required columns\n",
    "detail_df = detail_df[['Topic ID', 'name', 'username', 'created_at', 'cooked']]\n",
    "\n",
    "# Save the data to stip_detail_data.csv\n",
    "detail_df.to_csv('stip_detail_data.csv', index=False)\n",
    "\n",
    "print(\"Data saved successfully!\")\n"
   ]
  },
  {
   "cell_type": "markdown",
   "metadata": {},
   "source": [
    "#### Cleaned stip_detail_data.csv fle to remove html content."
   ]
  },
  {
   "cell_type": "code",
   "execution_count": null,
   "metadata": {},
   "outputs": [],
   "source": [
    "import pandas as pd\n",
    "from bs4 import BeautifulSoup\n",
    "\n",
    "# Read the CSV file into a pandas DataFrame\n",
    "df = pd.read_csv(\"stip_detail_data.csv\")\n",
    "\n",
    "# Define a function to remove HTML tags from the content\n",
    "def remove_html_tags(html_content):\n",
    "    soup = BeautifulSoup(html_content, \"html.parser\")\n",
    "    return soup.get_text(separator=\"\\n\")\n",
    "\n",
    "# Apply the function to the 'cooked' column\n",
    "df['cooked'] = df['cooked'].apply(remove_html_tags)\n",
    "\n",
    "# Save the updated DataFrame to a new CSV file\n",
    "df.to_csv(\"stip_detail_data_cleaned.csv\", index=False)\n"
   ]
  }
 ],
 "metadata": {
  "kernelspec": {
   "display_name": "Python 3",
   "language": "python",
   "name": "python3"
  },
  "language_info": {
   "codemirror_mode": {
    "name": "ipython",
    "version": 3
   },
   "file_extension": ".py",
   "mimetype": "text/x-python",
   "name": "python",
   "nbconvert_exporter": "python",
   "pygments_lexer": "ipython3",
   "version": "3.9.13"
  }
 },
 "nbformat": 4,
 "nbformat_minor": 2
}
